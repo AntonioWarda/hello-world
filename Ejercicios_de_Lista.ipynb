{
  "nbformat": 4,
  "nbformat_minor": 0,
  "metadata": {
    "colab": {
      "provenance": [],
      "authorship_tag": "ABX9TyNWXuatmuo+64x78yDN1OEA",
      "include_colab_link": true
    },
    "kernelspec": {
      "name": "python3",
      "display_name": "Python 3"
    },
    "language_info": {
      "name": "python"
    }
  },
  "cells": [
    {
      "cell_type": "markdown",
      "metadata": {
        "id": "view-in-github",
        "colab_type": "text"
      },
      "source": [
        "<a href=\"https://colab.research.google.com/github/AntonioWarda/hello-world/blob/main/Ejercicios_de_Lista.ipynb\" target=\"_parent\"><img src=\"https://colab.research.google.com/assets/colab-badge.svg\" alt=\"Open In Colab\"/></a>"
      ]
    },
    {
      "source": [
        "#Antonio Warda 3°D\n",
        "#11/09/2024\n",
        "#Programacion y Base de Datos\n",
        "\n",
        "import random\n",
        "\n",
        "# Crea una lista vacía\n",
        "numeros = []\n",
        "\n",
        "# Genera 10 enteros aleatorios y agrégalos a la lista\n",
        "for i in range(10):\n",
        "  numeros.append(random.randint(1, 100))  # Genera números aleatorios entre 1 y 100\n",
        "\n",
        "# Muestra la lista\n",
        "print(numeros)"
      ],
      "cell_type": "code",
      "metadata": {
        "id": "mlzg22GJA_nh"
      },
      "execution_count": null,
      "outputs": []
    },
    {
      "source": [
        "# Obtener la palabra del usuario\n",
        "palabra = input(\"Introduce una palabra: \")\n",
        "\n",
        "# Eliminar espacios y convertir a minúsculas\n",
        "palabra = palabra.replace(\" \", \"\").lower()\n",
        "\n",
        "# Invertir la palabra\n",
        "palabra_invertida = palabra[::-1]\n",
        "\n",
        "# Comprobar si la palabra es un palíndromo\n",
        "if palabra == palabra_invertida:\n",
        "  print(\"La palabra es un palíndromo\")\n",
        "else:\n",
        "  print(\"La palabra no es un palíndromo\")"
      ],
      "cell_type": "code",
      "metadata": {
        "id": "j-EwpSrQBWOM"
      },
      "execution_count": null,
      "outputs": []
    },
    {
      "source": [
        "# Pedir al usuario que introduzca una palabra\n",
        "palabra = input(\"Introduce una palabra: \")\n",
        "\n",
        "# Convertir la palabra a minúsculas\n",
        "palabra = palabra.lower()\n",
        "\n",
        "# Inicializar un diccionario para almacenar el recuento de vocales\n",
        "vocales = {'a': 0, 'e': 0, 'i': 0, 'o': 0, 'u': 0}\n",
        "\n",
        "# Contar las vocales en la palabra\n",
        "for letra in palabra:\n",
        "  if letra in vocales:\n",
        "    vocales[letra] += 1\n",
        "\n",
        "# Mostrar el recuento de vocales\n",
        "for vocal, count in vocales.items():\n",
        "  print(f\"La vocal '{vocal}' aparece {count} veces.\")"
      ],
      "cell_type": "code",
      "metadata": {
        "id": "hZAdRZyvBcss"
      },
      "execution_count": null,
      "outputs": []
    },
    {
      "source": [
        "# Crear una lista de palabras\n",
        "palabras = []\n",
        "while True:\n",
        "  palabra = input(\"Introduce una palabra (o escribe 'fin' para terminar): \")\n",
        "  if palabra == \"fin\":\n",
        "    break\n",
        "  palabras.append(palabra)\n",
        "\n",
        "# Crear una segunda lista con las palabras en orden inverso\n",
        "palabras_invertidas = palabras[::-1]\n",
        "\n",
        "# Mostrar ambas listas\n",
        "print(\"Lista original:\", palabras)\n",
        "print(\"Lista invertida:\", palabras_invertidas)"
      ],
      "cell_type": "code",
      "metadata": {
        "id": "psPR2nbFBhHs"
      },
      "execution_count": null,
      "outputs": []
    }
  ]
}